{
 "cells": [
  {
   "cell_type": "code",
   "execution_count": 9,
   "metadata": {},
   "outputs": [],
   "source": [
    "import numpy as np \n",
    "import matplotlib.pyplot as plt\n",
    "from sklearn.datasets import load_digits\n",
    "from sklearn.model_selection import train_test_split\n",
    "from sklearn.linear_model import LogisticRegression\n",
    "from sklearn import metrics\n",
   ]
  },
  {
   "cell_type": "code",
   "execution_count": 10,
   "metadata": {},
   "outputs": [
    {
     "data": {
      "text/plain": [
       "(1797, 8, 8)"
      ]
     },
     "execution_count": 10,
     "metadata": {},
     "output_type": "execute_result"
    }
   ],
   "source": [
    "digits = load_digits()\n",
    "digits.images.shape"
   ]
  },
  {
   "cell_type": "code",
   "execution_count": 11,
   "metadata": {},
   "outputs": [
    {
     "data": {
      "image/png": "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\n",
      "text/plain": [
       "<Figure size 432x288 with 1 Axes>"
      ]
     },
     "metadata": {
      "needs_background": "light"
     },
     "output_type": "display_data"
    }
   ],
   "source": [
    "plt.imshow(digits.images[10], cmap=plt.cm.viridis)\n",
    "plt.show()"
   ]
  },
  {
   "cell_type": "code",
   "execution_count": 12,
   "metadata": {},
   "outputs": [
    {
     "name": "stdout",
     "output_type": "stream",
     "text": [
      "(1797, 64)\n",
      "(1797, 8, 8)\n"
     ]
    }
   ],
   "source": [
    "print(digits.data.shape)\n",
    "print(digits.images.shape)"
   ]
  },
  {
   "cell_type": "code",
   "execution_count": 13,
   "metadata": {},
   "outputs": [
    {
     "data": {
      "image/png": "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\n",
      "text/plain": [
       "<Figure size 432x288 with 1 Axes>"
      ]
     },
     "metadata": {
      "needs_background": "light"
     },
     "output_type": "display_data"
    }
   ],
   "source": [
    "plt.imshow(digits.images[0], cmap=plt.cm.viridis)\n",
    "plt.show()"
   ]
  },
  {
   "cell_type": "code",
   "execution_count": 14,
   "metadata": {},
   "outputs": [
    {
     "data": {
      "text/plain": [
       "array([[ 0.,  0.,  5., 13.,  9.,  1.,  0.,  0.],\n",
       "       [ 0.,  0., 13., 15., 10., 15.,  5.,  0.],\n",
       "       [ 0.,  3., 15.,  2.,  0., 11.,  8.,  0.],\n",
       "       [ 0.,  4., 12.,  0.,  0.,  8.,  8.,  0.],\n",
       "       [ 0.,  5.,  8.,  0.,  0.,  9.,  8.,  0.],\n",
       "       [ 0.,  4., 11.,  0.,  1., 12.,  7.,  0.],\n",
       "       [ 0.,  2., 14.,  5., 10., 12.,  0.,  0.],\n",
       "       [ 0.,  0.,  6., 13., 10.,  0.,  0.,  0.]])"
      ]
     },
     "execution_count": 14,
     "metadata": {},
     "output_type": "execute_result"
    }
   ],
   "source": [
    "digits.images[0]"
   ]
  },
  {
   "cell_type": "code",
   "execution_count": 15,
   "metadata": {},
   "outputs": [
    {
     "data": {
      "text/plain": [
       "['DESCR', 'data', 'feature_names', 'frame', 'images', 'target', 'target_names']"
      ]
     },
     "execution_count": 15,
     "metadata": {},
     "output_type": "execute_result"
    }
   ],
   "source": [
    "dir(digits)"
   ]
  },
  {
   "cell_type": "code",
   "execution_count": 16,
   "metadata": {},
   "outputs": [
    {
     "data": {
      "text/plain": [
       "array([ 0.,  0.,  5., 13.,  9.,  1.,  0.,  0.,  0.,  0., 13., 15., 10.,\n",
       "       15.,  5.,  0.,  0.,  3., 15.,  2.,  0., 11.,  8.,  0.,  0.,  4.,\n",
       "       12.,  0.,  0.,  8.,  8.,  0.,  0.,  5.,  8.,  0.,  0.,  9.,  8.,\n",
       "        0.,  0.,  4., 11.,  0.,  1., 12.,  7.,  0.,  0.,  2., 14.,  5.,\n",
       "       10., 12.,  0.,  0.,  0.,  0.,  6., 13., 10.,  0.,  0.,  0.])"
      ]
     },
     "execution_count": 16,
     "metadata": {},
     "output_type": "execute_result"
    }
   ],
   "source": [
    "digits.data[0]"
   ]
  },
  {
   "cell_type": "code",
   "execution_count": 17,
   "metadata": {},
   "outputs": [
    {
     "data": {
      "text/plain": [
       "array([[ 0.,  0.,  5., 13.,  9.,  1.,  0.,  0.],\n",
       "       [ 0.,  0., 13., 15., 10., 15.,  5.,  0.],\n",
       "       [ 0.,  3., 15.,  2.,  0., 11.,  8.,  0.],\n",
       "       [ 0.,  4., 12.,  0.,  0.,  8.,  8.,  0.],\n",
       "       [ 0.,  5.,  8.,  0.,  0.,  9.,  8.,  0.],\n",
       "       [ 0.,  4., 11.,  0.,  1., 12.,  7.,  0.],\n",
       "       [ 0.,  2., 14.,  5., 10., 12.,  0.,  0.],\n",
       "       [ 0.,  0.,  6., 13., 10.,  0.,  0.,  0.]])"
      ]
     },
     "execution_count": 17,
     "metadata": {},
     "output_type": "execute_result"
    }
   ],
   "source": [
    "digits.images[0]"
   ]
  },
  {
   "cell_type": "code",
   "execution_count": 18,
   "metadata": {},
   "outputs": [
    {
     "data": {
      "image/png": "iVBORw0KGgoAAAANSUhEUgAABHcAAAEKCAYAAACYK7mjAAAABHNCSVQICAgIfAhkiAAAAAlwSFlzAAALEgAACxIB0t1+/AAAADh0RVh0U29mdHdhcmUAbWF0cGxvdGxpYiB2ZXJzaW9uMy4xLjAsIGh0dHA6Ly9tYXRwbG90bGliLm9yZy+17YcXAAAgAElEQVR4nO3dfZRtd1kf8O/DvTevBIggIAmYUCAI2Bq4RhEKTVJqUCpYq0aFKr5cjUqloi5gaZXWBW1VhFU1kgIGgYqCoBZ5lzeVCCQEkZAXIYAETQLyFiKQ3OTXP865ejPO3Dln5vxm733v57PWrDNzzp5nP+fkfjNnnvntvau1FgAAAACm6XZDNwAAAADA1hnuAAAAAEyY4Q4AAADAhBnuAAAAAEyY4Q4AAADAhBnuAAAAAEyY4c4IVNXtq6pV1atXUOviqvr8KvqCI51swvjIJYyTbMI4yeaR44ge7sz/kS/z8X1D93w4qpl9VXVJVd1YVZ+pqjdV1aOG7o1hyObwqurUqvq5qvr9qrr6oNf67kP3xjDkcnhV9W+q6lfmb64/WVVfqqoPVdVvVtVXDt0fw5DN4VXVv62ql1bVZVX1qar64jybr6yqRwzdH8OQzfGpquOr6oPz1/uKoftZtd1DNzCwZ6xz35OT3DHJc5N8Zs1j7+3Ux41JvirJKqag35bk6BXU2UnnJ/nhJB9J8ptJjk9ybpI3VNUTW2sXDtcaA5HN4T0syX9L0pJ8MMkNSU4YtCOGJpfDe3Vm/f55khcnuTXJwzP7GXpuVZ3ZWrt0wP4YhmwO75wkj0jyziRvSvKFJKck+fdJvrWqntpa+5/DtcdAZHN8np3kbkM30Uu11obuYVSq6iNJvjLJqa21jwzbzeFvvjrnDUkuS/LQ1toN8/tPS3Jxkkpyn9batcN1yRjI5s6qqlOSnJTkL1trn6+qi5M8JMlXyCMHyOXOqqqnJ3l+a+36Nfc/M8nTkvxFa+2hgzTHqMjmzqqqY1prX1zn/nsnuSSzP1zetbW29pd5jjCyOZyq+qYkf5zkvMwWF1zZWrv/sF2t1hF9WNZWHTjWsKqOrapfnC/tuqmqfm3++J2r6qlV9baq+tv5Y9fND294yDr11j0Osqp+eX7/3qr6nvlhS1+YL8V+cVXddaPe1tz3mHmdn6qqM6rq9VX1uflzeNN6Pc2/715V9ZL5/v5hvv/vPLje9l7JJLNwJckzDgx2kqS1dmWS/5PZD8MnrGA/HAFkc3XZbK19pLX25601x1WzLXK50lw+c+1gZ+6/J7klyddX1THb3Q9HBtlcaTb/2WBnfv/Vmf2xck9mv9DDpmRzpb9rHtjXnZO8IMkfJHnJquqOjeHO1t0us+XR35fkbUmek+Ty+WOnZ7YM74tJ/jCz5V9vTfJNSd5Ryx97+zOZDTquSvLrSf46yeOTvL6qdi1R5+FJ3p7ZYRYXZLZi5qwkb601x+pX1clJLkryPZktEXxuZqtrXpTkB9YrflAQlzlZ15nzfl6/zmOvnd+etUQ9kM01tphNWCW5XGPFubwls0O0DnzAomRzjVVms6pOyux1vDHJh7ZbjyOKbK6xzWw+L7Mh649s4Xsn40g/5852HJvZ+ScetM4Sy/ckuXtr7dMH31lV/yKzY3F/JcnXLrGvs5N8TWvtqnmdymzq+C1JvjHJaxas89gk395ae8VBPT0lyS8n+bHMgn3AryS5R5L/2lr77wdt/xtJ/myJ3jdUVXdLcqck17bWPrfOJn89v73fKvbHEUM2YXzksq8nZPam9U2ttZt2YH8cPmRzharqG5L8u8zyeM/MnttxSX7ISliWJJsrUlVPyOxcQee21q6rqtuvsv6YWLmzPU9b79jZ1tqn1oZtfv+HkvxRkr1V9WVL7OeXDoRtXqclef78yzOWqPP6g8M2d8HaOlV1QpL/kOT6JL908Mattb9I8vIN6r8ls5N1LToRveP89rMbPH7g/jstWA8OkM3bWjab0INc3tZKcllV98/sjfOXkvz0dmpxxJLN29pONr8hyc8neXpmQ9dbk3x3a+1FW6gFsnlbS2ezqu6Z5H8neXlr7XcX/b6pMtzZnndt9EBVnVmzyx9eMz8OslVVS/LE+SYnLbGfi9e572Pz2xO3U2d+npvPrqnzoMxWdV2ywTHE605TW2s3ttauaK1ds0RP0INs3raWbDIGcnnbWtvO5fyQj9dk9seSH26t9brSCoc32bxtrS1ns7X2y621ymy1zlcn+b0kL6+qX1m2FkQ219ZaKpvzFUgXZvbHjx9d5HumzmFZW/cPB58A+GBV9fgkv53Z5ebemOTDmR1r2zJbqvnQLHcJufXOrL9/frvMcZAbnaF//5o6B1bUXLfB9hvdv6wDK3PuuMHjB+53ZQGWIZswPnK5YvPBzlszO0nrPisD2CLZ7KC19oUk70/yI/NDQH6yqt7YWntdr31y2JHN7Tsvs3P+fFtr7ZMrqjlqhjtbd6hryP9ikhuSnD4/S/4/qqr7Zha4MTtw/pu7bfD4RvcvZX7M42eS3K2q7rDOeXfuO7+9KrA42YTxkcsVqqp7JXlzklOTfL/BDtsgm/29NrOTxv6bJIY7LEo2t+/B89vfny3i+WdOm692SpI9rbX96200JYY7K1ZVuzP7K9rb1wnbnow/bEnyV5lNWB9SVcess1zu4Svc11uSfGtmJ+tae3zlo+e3b17h/jhCySaMj1wur6rundnPxZOTfG9r7bC9pCvDkc2VOnB4zOR/cWR4srmUP93g/t1Jvjezo0gOnCPosLjSpHPurNh84vfxJA+sqrscuL+qbpfkWZn9lW3U5ksA/yDJXbPm5IxV9XVJvn2976uq46vq/vNL2y3q/Pntz89PrnWg1mlJfjCzJYYvXqIerEs2l84mdCeXy+Wyqu6T2SVxT8rsJK0GO3Qhm0tnc92TzlbVVyX5qfmXf7xoPdiIbC6ezdbai1prP7j2I8mPzze59qD7D4vhjpU7ffxqZleueF9VvTKzSeAjk5yS2dLMR2/8raPxlMympv+tqh6R5N2Z/ZXwO5L8vySPyz+fcJ45f+yPkzxmkZ201t5YVRck2Zd/er2OT3JuZpf/+/7W2rXbfzqQRDYXzmZVHZ3keQfddcr89rlV9YX557/WWlvvJHywDLlcIJdVdVRmg517JLkoyQOq6hfW2fSC1trfbu1pwG3I5oI/M5P8eVX9dZK/THJNkqOS3C/JozI718izWmsXbe+pwD+SzcWzeUQx3Onj2Zmd4OrHk3x/ZqtP3prZP9YfygQC11r7m6r6+swmwN+YWfg+kNkStmMzC9zac+Rs1Y8kuWR+e15my/TeneR/tNbeuKJ9QCKby9gzr7nWdxz0+auz/hUWYBlyuZijMhvsJLNl9xstvX91EsMdVkE2F/f0zE7c+rAkX56kklyb2SEfz2utvWUF+4ADZJN11ewy9rC4qnpukv+c5OGttT8fuh9gRjZhfOQSxkk2YZxkc+sMd9hQVd1j7dLuqvraJG9P8qkkX3k4nFUcpkY2YXzkEsZJNmGcZHP1HJbFoVxeVe9JclmSLyY5Lf+0zO/HhA0GI5swPnIJ4ySbME6yuWJW7rChqnpWkm9Kcq8kt0/y6STvSPK/WmvvGLI3OJLJJoyPXMI4ySaMk2yunuEOAAAAwITdbugGAAAAANg6wx0AAACACTPcAQAAAJgwwx0AAACACTPcAQAAAJgwwx0AAACACTPcAQAAAJgwwx0AAACACTPcAQAAAJgwwx0AAACACTPcAQAAAJgwwx0AAACACTPcAQAAAJgwwx0AAACACTPcAQAAAJgwwx0AAACACTPcAQAAAJgwwx0AAACACTPcAQAAAJgwwx0AAACACTPcAQAAAJgwwx0AAACACdvdo+hRdXQ7Jsf3KL0j9t+lb+93v/unutb/+I136lo/SY655uau9dvN+7vW7+mLuTE3tS/V0H2sNfVc9nbU/fvOuo++Xf9/05+57oSu9Xf9/Y1d6/d2Qz79ydbalw/dx1qyeWi33qnva3PKPa/rWj9Jrr35Dl3r33TFrV3r9yabfdx0Ut/eH3TnT3St/6lbd3WtnyR/f2Xf12jK72cT2Zyq2t3lV/x/dOu9+68Pqatu6r6PKdsom13+yx+T4/N1dXaP0jvik9/20K71f/opL+ta/+cueWzX+klyv5/8u67191/b/812L+9sfzJ0C+uaei57u8eL+g5G7nvc9V3rJ8kfPPusrvVPvPCirvV7e1N7xUeH7mE9snlo/3DW13Wt/4LnPLtr/SR51t+d07X+3379DV3r9yabfXz4SX3fz77re8/vWv9lN5zYtX6SvPiRZ3StP+X3s4lsTtWuu9y1a/0v/MaxXesnyVGPGuU/vdHYKJsOywIAAACYMMMdAAAAgAkz3AEAAACYMMMdAAAAgAkz3AEAAACYMMMdAAAAgAkz3AEAAACYsIWGO1V1TlVdWVUfrKqn9m4KWIxswjjJJoyTbMI4ySZs36bDnaraleTXkzw6yQOSfFdVPaB3Y8ChySaMk2zCOMkmjJNswmossnLnjCQfbK1d3Vq7KcnLkjy2b1vAAmQTxkk2YZxkE8ZJNmEFFhnunJTkYwd9fc38vtuoqn1VdXFVXXxzvrSq/oCNbZpNuYRByCaMk2zCOMkmrMDKTqjcWrugtba3tbZ3T45eVVlgG+QSxkk2YZxkE8ZJNmFziwx3Pp7kngd9ffL8PmBYsgnjJJswTrIJ4ySbsAKLDHfeneS+VXVqVR2V5Nwkf9S3LWABsgnjJJswTrIJ4ySbsAK7N9ugtba/qn48yeuT7ErywtbaZd07Aw5JNmGcZBPGSTZhnGQTVmPT4U6StNZek+Q1nXsBliSbME6yCeMkmzBOsgnbt7ITKgMAAACw8wx3AAAAACbMcAcAAABgwgx3AAAAACbMcAcAAABgwgx3AAAAACZsoUuhH2l++ikv61r/3BM+3bX+c+70+a71k+SP3/P6rvUf8gvnda1/lwsu6lqf6fnIDV/Wtf5v3etPu9ZPkv/ziH/dtf6JF3Ytz0Td+sjTu9b/019/Xtf6V93ctXyS5LF3vrRr/fNzn6716eOq88/oWv9ZZ/V9P/ug5/5o1/rv/4nf6Fo/Sf73vz6la/3bv/y6rvVhPR8+r+/PhJvef2vX+klyn3y0+z4OR1buAAAAAEyY4Q4AAADAhBnuAAAAAEyY4Q4AAADAhBnuAAAAAEyY4Q4AAADAhBnuAAAAAEyY4Q4AAADAhG063KmqF1bV9VX1/p1oCFiMbMI4ySaMk2zCOMkmrMYiK3cuTHJO5z6A5V0Y2YQxujCyCWN0YWQTxujCyCZs26bDndba25N8agd6AZYgmzBOsgnjJJswTrIJq7F7VYWqal+SfUlyTI5bVVlgG+QSxkk2YZxkE8ZJNmFzKzuhcmvtgtba3tba3j05elVlgW2QSxgn2YRxkk0YJ9mEzblaFgAAAMCEGe4AAAAATNgil0L/nSQXJTmtqq6pqh/o3xawGdmEcZJNGCfZhHGSTViNTU+o3Fr7rp1oBFiObMI4ySaMk2zCOMkmrIbDsgAAAAAmzHAHAAAAYMIMdwAAAAAmzHAHAAAAYMIMdwAAAAAmzHAHAAAAYMI2vRT6GO0/6yFd6597wnu71n/0Oed2rX/H913RtX6SfMefnd21/qdOv6Vr/bt0rU4Ptz7y9K71n3e/X+taPzm+c/3kDn91VPd9wFpXP+7orvWf+cnTutZ/wZ+c2bV+knzoO3+za/3zu1anl/uf/7mu9V/8jDO61v/Zt/1O1/ovu+HErvWT5PYvf2f3fcBau+521671n/Af/qRr/d/9rb6/BybJrgf2/dnf2y2XXTnIfq3cAQAAAJgwwx0AAACACTPcAQAAAJgwwx0AAACACTPcAQAAAJgwwx0AAACACTPcAQAAAJgwwx0AAACACdt0uFNV96yqt1TVB6rqsqr6iZ1oDDg02YRxkk0YJ9mEcZJNWI3dC2yzP8lTWmvvqaoTklxSVW9srX2gc2/AockmjJNswjjJJoyTbMIKbLpyp7X2d62198w/vyHJ5UlO6t0YcGiyCeMkmzBOsgnjJJuwGkudc6eqTklyepJ39mgG2BrZhHGSTRgn2YRxkk3YukUOy0qSVNXtk/x+kie31j63zuP7kuxLkmNy3MoaBA7tUNmUSxiObMI4ySaMk2zC9iy0cqeq9mQWtJe21l653jattQtaa3tba3v35OhV9ghsYLNsyiUMQzZhnGQTxkk2YfsWuVpWJXlBkstba8/u3xKwCNmEcZJNGCfZhHGSTViNRVbuPCzJE5KcVVXvnX98U+e+gM3JJoyTbMI4ySaMk2zCCmx6zp3W2p8lqR3oBViCbMI4ySaMk2zCOMkmrMZSV8sCAAAAYFwMdwAAAAAmzHAHAAAAYMIMdwAAAAAmzHAHAAAAYMIMdwAAAAAmbNNLoY/RF+/ct+2fvf6ru9a/9X1XdK2/E979V/9i6BYYmb/5hW/oWv8Pn/hLXevfb8/xXevvhJPe8Pdd69/StTpTddr/uLpr/d/9m7O71n/tk/v+vyVJzrzsu7vWPyof7VqfPrq/H/yX9+9a/twTPt21/ndc3Tf7SbL77n1/p9h/7XVd6zNNHz7vPl3rP+eOr+pa/22/emzX+kly+Qv3dq1/u8/2zf59/kvX8huycgcAAABgwgx3AAAAACbMcAcAAABgwgx3AAAAACbMcAcAAABgwgx3AAAAACbMcAcAAABgwgx3AAAAACZs0+FOVR1TVe+qqr+sqsuq6hk70RhwaLIJ4ySbME6yCeMkm7AauxfY5ktJzmqtfb6q9iT5s6p6bWvtLzr3BhyabMI4ySaMk2zCOMkmrMCmw53WWkvy+fmXe+YfrWdTwOZkE8ZJNmGcZBPGSTZhNRY6505V7aqq9ya5PskbW2vv7NsWsAjZhHGSTRgn2YRxkk3YvoWGO621W1prX5Pk5CRnVNWD1m5TVfuq6uKquvjmfGnVfQLr2CybcgnDkE0YJ9mEcZJN2L6lrpbVWvtMkrckOWedxy5ore1tre3dk6NX1R+wgI2yKZcwLNmEcZJNGCfZhK1b5GpZX15Vd5p/fmySRyW5ondjwKHJJoyTbMI4ySaMk2zCaixytayvSPKiqtqV2TDo91prr+7bFrAA2YRxkk0YJ9mEcZJNWIFFrpb1viSn70AvwBJkE8ZJNmGcZBPGSTZhNZY65w4AAAAA42K4AwAAADBhhjsAAAAAE2a4AwAAADBhhjsAAAAAE2a4AwAAADBhm14KfYy+eGLfmdRLL3po1/r3y7u61t8Ju+94U9f6+z97VNf6rN69fuEdXes/+fxv7Vr/NZe+oWv9nXDzXY7rWt9fA6Zp193u2rX+lU+9d9f6P3D2n3StvxOOffwXuta/pWt1purW913Rtf43P/gbu9Y//XV/27V+kuR1fctfes49utbff+11XesfqT79fX1/F7x83290rf/Ai/Z1rX9yLutaP0k+fM7zu9b/V7/0o13rD8V7dQAAAIAJM9wBAAAAmDDDHQAAAIAJM9wBAAAAmDDDHQAAAIAJM9wBAAAAmDDDHQAAAIAJM9wBAAAAmLCFhztVtauqLq2qV/dsCFiObMI4ySaMj1zCOMkmbN8yK3d+IsnlvRoBtkw2YZxkE8ZHLmGcZBO2aaHhTlWdnOSbkzy/bzvAMmQTxkk2YXzkEsZJNmE1Fl2585wkP5Pk1o69AMuTTRgn2YTxkUsYJ9mEFdh0uFNVj0lyfWvtkk2221dVF1fVxTfnSytrEFjfItmUS9h5sgnj4/0sjJNswuossnLnYUm+pao+kuRlSc6qqpes3ai1dkFrbW9rbe+eHL3iNoF1bJpNuYRByCaMj/ezME6yCSuy6XCntfa01trJrbVTkpyb5M2ttcd37ww4JNmEcZJNGB+5hHGSTVidZa6WBQAAAMDI7F5m49baW5O8tUsnwJbJJoyTbML4yCWMk2zC9li5AwAAADBhhjsAAAAAE2a4AwAAADBhhjsAAAAAE2a4AwAAADBhhjsAAAAAE2a4AwAAADBhu4duYCuO+fStXet/7Vd/qGv9z3atnuy++9067yH5zgdc0rX+77324V3rw+Ho+gcf27X+3d/WtTydXP6se3Wt/+FzfrNr/d7OePpPdd/Hiddd1H0fsNP2X3td1/qXnnOPrvWT5O9feELX+tf9/Jd1rX+/8/r+NzhSHf3Zvr9rXnXzjV3rX/bQl3at/8z3nda1/k446f9+sGv9W7pW35iVOwAAAAATZrgDAAAAMGGGOwAAAAATZrgDAAAAMGGGOwAAAAATZrgDAAAAMGGGOwAAAAATtnuRjarqI0luyOyS7ftba3t7NgUsRjZhnGQTxkk2YZxkE7ZvoeHO3JmttU926wTYKtmEcZJNGCfZhHGSTdgGh2UBAAAATNiiw52W5A1VdUlV7evZELAU2YRxkk0YJ9mEcZJN2KZFD8t6eGvt41V11yRvrKorWmtvP3iDeQj3JckxOW7FbQIbOGQ25RIGI5swTrIJ4ySbsE0LrdxprX18fnt9klclOWOdbS5ore1tre3dk6NX2yWwrs2yKZcwDNmEcZJNGCfZhO3bdLhTVcdX1QkHPk/y75K8v3djwKHJJoyTbMI4ySaMk2zCaixyWNbdkryqqg5s/39ba6/r2hWwCNmEcZJNGCfZhHGSTViBTYc7rbWrk/yrHegFWIJswjjJJoyTbMI4ySashkuhAwAAAEyY4Q4AAADAhBnuAAAAAEyY4Q4AAADAhBnuAAAAAEyY4Q4AAADAhBnuAAAAAEzY7qEb2Io7XPnZrvV//uRXd63/n/b9ZNf6ex73ia71d8KpT7to6BYADgv3edEtXes/c+9pXes//S5Xdq3/rmee37V+kpz5PY/tWv/Gl96ja/0TL/QzeYquOv+MrvXv8ebqWv+LJ/b/G/RvP+DZXes/7jPnda1PH8e96p1d6z/pVQ/rWv/WR57etf6v//avda2fJA+8aF/X+idfd1nX+kOxcgcAAABgwgx3AAAAACbMcAcAAABgwgx3AAAAACbMcAcAAABgwgx3AAAAACbMcAcAAABgwgx3AAAAACZsoeFOVd2pql5RVVdU1eVV9dDejQGbk00YJ9mEcZJNGCfZhO3bveB2z03yutbaf6yqo5Ic17EnYHGyCeMkmzBOsgnjJJuwTZsOd6rqjkkekeT7kqS1dlOSm/q2BWxGNmGcZBPGSTZhnGQTVmORw7JOTfKJJL9VVZdW1fOr6vi1G1XVvqq6uKouvjlfWnmjwD+zaTblEgYhmzBOsgnjJJuwAosMd3YneXCS81trpye5MclT127UWrugtba3tbZ3T45ecZvAOjbNplzCIGQTxkk2YZxkE1ZgkeHONUmuaa29c/71KzILHzAs2YRxkk0YJ9mEcZJNWIFNhzuttWuTfKyqTpvfdXaSD3TtCtiUbMI4ySaMk2zCOMkmrMaiV8t6UpKXzs9cfnWSJ/ZrCViCbMI4ySaMk2zCOMkmbNNCw53W2nuT7O3cC7Ak2YRxkk0YJ9mEcZJN2L5FzrkDAAAAwEgZ7gAAAABMmOEOAAAAwIQZ7gAAAABMmOEOAAAAwIQZ7gAAAABM2EKXQh+bW993Rdf633n+U7rW/9mn/E7X+s/50Nld6yfJu79mV/d9wMFuue76rvXPvOyxXeu/5YF/2LV+kux/+Gf77uBX+5anj9u97dKu9d/2L4/tWv8tj3xi1/r7f/ZTXesn/fN/6iN+sGv9Ey/sWp5O9nym73u1J/3iy7rW3wmPe8d5Xevf+7vf27U+rGfPJ/+ha/377Tm+a/0k+bKX3L77Pg5HVu4AAAAATJjhDgAAAMCEGe4AAAAATJjhDgAAAMCEGe4AAAAATJjhDgAAAMCEGe4AAAAATJjhDgAAAMCEbTrcqarTquq9B318rqqevBPNARuTTRgn2YRxkk0YJ9mE1di92QattSuTfE2SVNWuJB9P8qrOfQGbkE0YJ9mEcZJNGCfZhNVY9rCss5N8qLX20R7NAFsmmzBOsgnjJJswTrIJW7Tpyp01zk3yO+s9UFX7kuxLkmNy3DbbApa0bjblEgYnmzBOsgnjJJuwRQuv3Kmqo5J8S5KXr/d4a+2C1tre1trePTl6Vf0BmzhUNuUShiObME6yCeMkm7A9yxyW9egk72mtXderGWBLZBPGSTZhnGQTxkk2YRuWGe58VzY4JAsYlGzCOMkmjJNswjjJJmzDQsOdqjo+yaOSvLJvO8AyZBPGSTZhnGQTxkk2YfsWOqFya+3GJHfu3AuwJNmEcZJNGCfZhHGSTdi+ZS+FDgAAAMCIGO4AAAAATJjhDgAAAMCEGe4AAAAATJjhDgAAAMCEGe4AAAAATFi11lZftOoTST66xLfcJcknV97IztH/sMbW/1e21r586CbWOgJzmUz/Oeh/tWRzHKbefzL95zC2/mVzHPQ/vLE9B9kcB/0Pa4z9r5vNLsOdZVXVxa21vUP3sVX6H9bU+x+rw+F1nfpz0D/rmfrrOvX+k+k/h6n3P1ZTf131P7zD4TmM0dRfV/0Pa0r9OywLAAAAYMIMdwAAAAAmbCzDnQuGbmCb9D+sqfc/VofD6zr156B/1jP113Xq/SfTfw5T73+spv666n94h8NzGKOpv676H9Zk+h/FOXcAAAAA2JqxrNwBAAAAYAsMdwAAAAAmbNDhTlWdU1VXVtUHq+qpQ/ayrKq6Z1W9pao+UFWXVdVPDN3TVlTVrqq6tKpePXQvy6qqO1XVK6rqiqq6vKoeOnRPhwvZHJ5ssh7ZHJ5ssh7ZHJ5ssh7ZHJ5s7pzBzrlTVbuSXJXkUUmuSfLuJN/VWvvAIA0tqaq+IslXtNbeU1UnJLkkyeOm0v8BVfWTSfYmuUNr7TFD97OMqnpRkj9trT2/qo5Kclxr7TND9zV1sjkOsslasjkOsslasjkOsslasjkOsrlzhly5c0aSD7bWrm6t3ZTkZUkeO2A/S2mt/V1r7T3zz29IcnmSk4btajlVdXKSb07y/KF7WVZV3THJI5K8IElaazeNOWgTI5sDk002IJsDk002IJsDk002IJsDk82dNeRw56QkHzvo62sysX+sB1TVKUlOT/LOYTtZ2nOS/EySW3o7TJIAAAHGSURBVIduZAtOTfKJJL81X+b3/Ko6fuimDhOyOTzZZD2yOTzZZD2yOTzZZD2yOTzZ3EFOqLxNVXX7JL+f5Mmttc8N3c+iquoxSa5vrV0ydC9btDvJg5Oc31o7PcmNSSZ1HC19yeZgZJNDks3ByCaHJJuDkU0OSTYHM7lsDjnc+XiSex709cnz+yajqvZkFrSXttZeOXQ/S3pYkm+pqo9ktkTxrKp6ybAtLeWaJNe01g5Mr1+RWfjYPtkclmyyEdkclmyyEdkclmyyEdkclmzusCGHO+9Oct+qOnV+cqJzk/zRgP0spaoqs+PvLm+tPXvofpbVWntaa+3k1topmb32b26tPX7gthbWWrs2yceq6rT5XWcnmdTJxUZMNgckmxyCbA5INjkE2RyQbHIIsjkg2dx5u4facWttf1X9eJLXJ9mV5IWttcuG6mcLHpbkCUn+qqreO7/v6a211wzY05HmSUleOv+f9dVJnjhwP4cF2WQFZLMD2WQFZLMD2WQFZLMD2WQFJpXNwS6FDgAAAMD2OaEyAAAAwIQZ7gAAAABMmOEOAAAAwIQZ7gAAAABMmOEOAAAAwIQZ7gAAAABMmOEOAAAAwIT9f9uypPvZ3N4IAAAAAElFTkSuQmCC\n",
      "text/plain": [
       "<Figure size 1440x288 with 5 Axes>"
      ]
     },
     "metadata": {
      "needs_background": "light"
     },
     "output_type": "display_data"
    }
   ],
   "source": [
    "plt.figure(figsize=(20,4))\n",
    "for index, (image, label) in enumerate(zip(digits.data[0:5], digits.target[0:5])):\n",
    " plt.subplot(1, 5, index + 1)\n",
    " plt.imshow(np.reshape(image, (8,8)), cmap=plt.cm.viridis)\n",
    " plt.title('Training: %i\\n' % label, fontsize = 20)\n",
    "plt.show()"
   ]
  },
  {
   "cell_type": "code",
   "execution_count": 19,
   "metadata": {},
   "outputs": [
    {
     "data": {
      "text/plain": [
       "(450, 64)"
      ]
     },
     "execution_count": 19,
     "metadata": {},
     "output_type": "execute_result"
    }
   ],
   "source": [
    "x_train, x_test, y_train, y_test = train_test_split(digits.data, digits.target, test_size=0.25, random_state=0)\n",
    "x_test.shape\n",
    "#digits.data.shape"
   ]
  },
  {
   "cell_type": "code",
   "execution_count": 20,
   "metadata": {},
   "outputs": [
    {
     "name": "stderr",
     "output_type": "stream",
     "text": [
      "/usr/local/lib/python3.7/site-packages/sklearn/linear_model/_logistic.py:818: ConvergenceWarning: lbfgs failed to converge (status=1):\n",
      "STOP: TOTAL NO. of ITERATIONS REACHED LIMIT.\n",
      "\n",
      "Increase the number of iterations (max_iter) or scale the data as shown in:\n",
      "    https://scikit-learn.org/stable/modules/preprocessing.html\n",
      "Please also refer to the documentation for alternative solver options:\n",
      "    https://scikit-learn.org/stable/modules/linear_model.html#logistic-regression\n",
      "  extra_warning_msg=_LOGISTIC_SOLVER_CONVERGENCE_MSG,\n"
     ]
    }
   ],
   "source": [
    "logisticRegr = LogisticRegression()\n",
    "logisticRegr.fit(x_train, y_train)\n",
    "predictions = logisticRegr.predict(x_test) "
   ]
  },
  {
   "cell_type": "code",
   "execution_count": 21,
   "metadata": {},
   "outputs": [
    {
     "data": {
      "text/plain": [
       "(2, 2)"
      ]
     },
     "execution_count": 21,
     "metadata": {},
     "output_type": "execute_result"
    }
   ],
   "source": [
    "predictions[0], y_test[0]\n"
   ]
  },
  {
   "cell_type": "code",
   "execution_count": 22,
   "metadata": {},
   "outputs": [
    {
     "data": {
      "image/png": "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\n",
      "text/plain": [
       "<Figure size 432x288 with 1 Axes>"
      ]
     },
     "metadata": {
      "needs_background": "light"
     },
     "output_type": "display_data"
    }
   ],
   "source": [
    "plt.imshow(np.reshape(x_test[0], (8,8)), cmap=plt.cm.viridis)\n",
    "plt.show()"
   ]
  },
  {
   "cell_type": "code",
   "execution_count": 27,
   "metadata": {},
   "outputs": [
    {
     "name": "stdout",
     "output_type": "stream",
     "text": [
      "0.9511111111111111\n"
     ]
    },
    {
     "name": "stderr",
     "output_type": "stream",
     "text": [
      "/usr/local/lib/python3.7/site-packages/sklearn/utils/deprecation.py:87: FutureWarning: Function plot_confusion_matrix is deprecated; Function `plot_confusion_matrix` is deprecated in 1.0 and will be removed in 1.2. Use one of the class methods: ConfusionMatrixDisplay.from_predictions or ConfusionMatrixDisplay.from_estimator.\n",
      "  warnings.warn(msg, category=FutureWarning)\n"
     ]
    },
    {
     "data": {
      "text/plain": [
       "<Figure size 648x648 with 0 Axes>"
      ]
     },
     "metadata": {},
     "output_type": "display_data"
    },
    {
     "data": {
      "image/png": "iVBORw0KGgoAAAANSUhEUgAAATwAAAEYCAYAAADBOEomAAAABHNCSVQICAgIfAhkiAAAAAlwSFlzAAALEgAACxIB0t1+/AAAADh0RVh0U29mdHdhcmUAbWF0cGxvdGxpYiB2ZXJzaW9uMy4xLjAsIGh0dHA6Ly9tYXRwbG90bGliLm9yZy+17YcXAAAgAElEQVR4nO2deZwU9bX2v89sOGyyjCIBFFBB0biBCur1oqhRo6I3idEYo4mJMdHENUaN9xoT19wsxiTq5VXUJC4xLnGLC0EQNYoC7oAKqAiC7A7rwPSc94+qgWYYunumq3q6ps+XT326q+pXT50uek7/1nNkZjiO45QCZW1tgOM4TqFwh+c4TsngDs9xnJLBHZ7jOCWDOzzHcUoGd3iO45QMLXJ4kj6UZJJ2icugpCKpRtIfJc2RtE7Sp5KekXRiW9vWWiQdLGly+Hk+lPTjHK87RNLLac/hWkkVTcpMDL9LTbdt0spsJ+lmSa9KWi/po63c7+uSHpa0INQ4s5kyrtUOtPIlZ4cnaQTQP9w9NWpDkoykSmACcAxwLXA0cCnwGTCqDU1rNeGP2jPAh8CxwP8Bv5X03SzXDQDGEXz2k4DrgfOBXzdTfAIwoslWl3a+D/B1YCHwRobbfpXgu/lEhjKu1T608sPMctqAm4FVwCvA9FyvK8QGbNPG9z8SMGD/Zs6pAPevjkHz/4D3gYq0Y7cAn2T6TOF1c5pc9yNgA9A77dhE4MEsNpSlvf818FGmckDn8P/hTNdqn1r5bjnV8CSVAycDjwFjgd0l7d1MuZ0k3SdpiaQ1kt6S9I2089WSfiXpY0l1YTPp+rTzJum8Jpo/l7Qkbf/MsNwBYbNoLfCT8NwNkt6WtErSPEn3SNqhGTu/F5ZbJ+kzSQ9K2lbSsZIawlpKevkB4fHRW3lE3cLXhU1PWPg/mKa1l6THJa0I7XxV0pFN7vUPSbWSVoZld2miYZIuknSTpMXA22nnRkuaEn62heHzrtyK3Zk4BnjYzOrTjt0P9AX2zHDdPsDEJtc9C1QAR7XEADNriKqca7UPrXzJtUl7GNCL4Av/IMGv9WbNWknbAy8D+wOXAMcDdwD9wvMCHgV+APyJoJl0FVDTStvvAx4PdRqrwNsD1wFfBi4ABgLPSdr4OSVdSVALeR44MbTnc4JflWeAT4EzmtzrTGAR8ORWbHkDaADGKui/qmiukKTdgJeA3sA5BE2+R9j0jDoA44Hdge+F9x0APC+pRxO5n4Q6pwM/Dq8/GXgYeBU4AbgaOJugWdloQ/9s/SOSOoU2zWxyakb4utvWrgW2AdY3Oda4v3uT40eFP4xrFPR37pVB13Hyptk/zGY4FVgBPG1m6yU9C5wi6fK0GsyFwLbAUDNbEB4bn6ZxFEHTb7SZPZZ2/M+ttP1mM/t9+gEz+07j+7BW+jIwDzgEmCSpG3AFcJOZXZR26cNp190FnCHpajOz0FGfAfy1Sa0l/b4fSPoJcAPwArBO0vPAHWb297SiVxE41/8ws7XhsXFp578N7AgMMrM5oT2TCZqI3yfNcQELzOzraXYL+F/gz2b2w7TjdcCfJF1vZksJmgopAge9NRprrCuaHF8evnbPcO0sYFiTYweEr+lO+3ng7rD8TsDPgBck7W1mH2XQd5xWk7WGJ6kK+C/gETNr/KW+n+BLOiKt6OEEDnEBzXM4sKyJs8uHLWpbko6R9G9JnwP1BM4OYFD4OgKoBu7MoDuW4LONDPcPC/czXYOZ/ZagNnYuQc3zQOCB9CY7wTP4W5qza8oBwLRGZxfqziOoFR7SpOw/m+wPInCWD0iqaNyA5whqXXuGeh+bWYWZtfaHJhu3AUMl/beCkevhBD8EmzlZM7vKzO40sxfM7K8Ez9kIauaOEwu5NGmPIfjF/6ekbmEtaSLBaFp6s7YnsDVnl8v5lvJZ+o6k/Qn6GOcRNPNGAMPD041THXqGr1u1I3Q2EwlqW4Svr5rZu9kMMrP5ZnaLmZ1M0Nf1NPATSY33zfYMejf9XCGfsXntiGbKNXYN/JOgy6Fx+zA83i+b/Wk01uy2bXK8sWa3nK1gZuOAKwlqbIuBSQRdG8topo8z7bqFBI59vxbY6TgtIheH1+jU/k7wRV9OMFLXAfha2HQEWErwB7s1sp2HwIlWNTm2teZT07hWJxH8gX3dzB4zs1fY8g9safiazY7bga9I6kNQu81Yu2vWOLPVBKOa5UDjoEO2Z7CAoB+yKb0IHMZmt2iy33j+bIJ+1KbbUy20/RO27Ktr3G/at9f0+msJHPBeoe23AdsRjPBnvJQtP5fjREZGhxd2Xh9PMEBwWJPtIoIv8+Fh8fHAlyT12orceKCHpOMy3HIeaR3b4WBDrvPYqoENTUZFT2tS5mVgLVsOSjTlYYKO9vsJntH9mQpL6pHm+NPZNXxtrI2NB05W2uTaJkwmaA5uHCUOne5BwItZbH4PmA/0N7MpzWxLs1zflKeAk5p8rq8TOMJ3sl1sZqvM7G0zW07QzP8Y+NfWyoej6YcAU1top+PkTLZBi9FAR+D3ZjY5/YSklwiaLacSdLz/DvgWQcfztQR/GLsDnczsV2GZZ4B7Jf0CmEZQ2znUzL4fyj4CnCvpdYKO+u8CXXP8LOOACyTdRNCHdhDwzfQCZrZC0i+Ba8O+yX8S1FS/DFxtZvPDcusk3UPwh3qfmTXtvG/K4cD1ku4EXiPoqzoIuAx4Iq0T/urw/CRJvyGo8e0LLDWzscBdwE+BpyT9D0G/11XAEoKR5a1iZg2SLgb+IqkrgcNaTzBSfSLwVTNbI2knYDbwnSz9eP9L8IPxF0n/j6CW+H3gB+k/KpLqgV+Y2S/C/V2AbxCMFFcAxwHfAb7cOOgTjsZeT9Bq+Jig7/Hy8LndlG6EpK+GbwcBHdP2nzezxWGZIcAQNnVdDJO0ClhsZs+7VvvSyotMk/QIHMf7Gc7fQtDf0yHc3wn4G0Gzdw3wJnBKWvlqgomH8wiarx8C16ad70wwctfY33MlgZNYklbmTIJmT+dm7LmUwNGuJqhN7BqWPa9Jue8D00MbFgIPAF2blDkivPaITM8oLNsv/FxvhM9jJcHcuMuBjk3K7kXgaFeG22RgVNr5gcA/wnOrCKbc7NpEY4vPlHbuGIKR4tVAbWjTNYQTgQlmsuc0qZOgxvUqsA74CPhxM2UM+Hna/o4E/XafhzZMJBiVTr+mT/gMFhA45aXAQ8BuW9FvbhuZVubnWykz0bXan1Y+m2zzebFOiKRfEUy2HmgFmBDpOE785DoPr2SQNJigWv0DgmauOzvHaSd4Da8JkiYSzKF7DDjdNs09dBwn4bjDcxynZPAAoI7jlAyJ7MPr0K3aqnfoErluw3vNLpV1nJJjHatZb3XKR+NLh3WypctSOZWd+lbdM2Z2dD73y4VEOrzqHbow8vavZi/YQlYfujhyTcdJIpNtfPZCWVi6LMWrz+yYU9ny3h9kjJqkIErySoK5qfVmNiyMIPQ3gqlWHwEnWzDRfat4k9ZxnFgwoCHHfzlymJntY2aN0XguA8ab2a4Eq5guyyaQyBqe4zjFj2FssNyatK1kNJuiGt1NMMn9p5ku8Bqe4zixEWENz4BnJU2VdHZ4rJdtCke3kGBtf0a8huc4TiwYRir3aW81kqak7Y8xszFp+4eY2fwwsvo4SZtF7DEzk5T1Zu7wHMeJjYbco30tSeub2wLbFNhjkaRHCILlfiapt5ktkNSbIA1DRtpNk9bqjLVnL2ftt5ex5lvLWD92NQBrz1vO2u8sY+13lrHmpKWsu+LzvO4zbGQtt78wkztfmsHJ5zUXq7M4NF03Pk3XzQ0DUlhOWyYkdZLUpfE9QbqIdwhWQ50RFjuDIGdORorC4Uk6WtJ7kmZJyjrS0ixVsM1N3ai+swfVY7uTmrye1LsbqP5jd6rH9qB6bA/K9qig/NAOrbazrMw497r5XHnaAL43cjCHjV7Bjruua7VeXJqumzxbk6ibCw1YTlsWegEvSnqTIHrPk2b2NEHqgCMlfUAQ3eiGbEJt7vDCAJN/IghrNAQ4NYyL1VId1DGcJ1kfbmnTJm11A6lpG6j4j6YBlXNn8L5r+PSjKhbO7UD9hjImPtqNEV/Kr8YYh6brJs/WJOpmw4ANZjltGXXM5pjZ3uG2hwURtTGzpWY2ysx2NbMjzKxpVPAtaHOHR9AWnxV+qMYow1vL/5oRS1nQdB29hPJhlZQP2ZSOtf6F9ZQPrUSdWv+Re+6wgcWfbnKYSxZUUtN7Q6v14tJ03fg0XTd3LMfmbLYmbZQUg8PrQxC0s5F54bHNkHS2ggTTU9avaD7pl8pF9dgedHywJ6mZ9TTM2bRULDV+HRWjthZZ3XGcyDFI5bgVimJweDlhZmPMbJiZDavqVp2xrLqUUb5vJanJQWQnW9FAakY95SNa35wFWLqwku2+sClaVE3vDSxZUJnhirbRdN34NF03d4KVFrlthaIYHN58Nk8h2Dc81iJsRQO2Mnh0VmekpqxHOwX5Z+qfr6NiRBXqkNdaaN57oyN9BqynV786KiobGDl6Ba882zSTYdtrum7ybE2ibnZEKsetUBTDPLzXgF3DTF3zgVMIksC0CFvaQN11K7GUgUHFYR2oOCgYka0fX0flaR3zNrQhJf70sz5cd+8cysrh2ft78PH7+TWT49B03eTZmkTdbASDFoVzZrlQFAFAJR1LkK2qHBjbOAqzNbrttr15tBTHiY/JNp5aW5aXt9pjryq7/8nm0ixvyV47zp+aaeJxVBRDDQ8z+ydBFivHcdoRDUVWwysKh+c4TvsjWGnhDs9xnBLAEKmiGBfdhDs8x3Fiw5u0juOUBIZYb+VtbcZmuMNzHCcWgonH3qTNm4b36mOZQrLn1Hj+c94ZWsi55E6xUt61ayy6DXV10Yvml7BsIz5o4ThOSWAmUuY1PMdxSoQGr+E5jlMKBIMWxeViissax3HaDT5o4ThOSZHyeXiO45QCxbjSorisiZAoszRZypj1jQY+Pj+YXrJ+vjH7Ww28P7qBuZc10LAhv4gzSctUlSTdJNlas0Md19/9Frc9MYVbH5/K6NNbHBayWS68cQ73vzaN255+OxK9ltBgZTlthaLNHZ6ksZIWSXonKs2oszQtvQ869N+0v/Bmo+dpYtCjZZR3heX/KB5bXTeZtgKkUuL2GwdyznHDuOiUvTnutAX023l13rrjHqrhyjMH563TUoLgAWU5bYWizR0ecBdwdJSCUWZp2vCZsfJFo/uJQV+EmbH6Ndh2VHC++3Fi5cTW1/CSlqkqSbpJshVg+eIqZk/vDMDa1RXMnV1NTa/1Wa7KzjuvdmXlisL3Xhlig5XntBWKNnd4ZjYJyJperSVEmaVpwW+MHc7XxieVWgHlXUAVgQOs2B425LHoI2mZqpKkmyRbm7J9n3XsvPtqZr7ZJVLdQmIGKSvLaSsUbe7wciU9a9kGYlhK0wy1k4yK7lC9e3GNNDntm206pvjZzTMYc/1A1q5O8riiaMhxKxSJeZpmNgYYA9BVPTK2IaPK0rTmTaN2Eqx8qQFbD6lVsODXRmolWL2hClG/CCq3a7F05La6bmE049QFKK9o4Gc3T2fi49vx73E1kWi2FQZFt7SsuKyJiKiyNO3wozJ2e6qMwU+U0fc60Xl/6HdtGZ2GwefjgzLLnzC6/Gfrf6GSlqkqSbpJsjXAuOCaD/hkdkceuatvBHptT7ENWiSmhtcS4s7StMOPxSdXGItuMbYZDN1PLD5bXTdZtgIM2a+WUScu4sP3OvKHR6YBcPfv+jNlUo+8dC/7/Sz2Gr6Srt3r+cu/X+evN/XlmQfyaJbkiKGiCwDa5lnLJN0HjARqgM+Aq8zsjkzXdFUPO1CjIrfFw0M5cZKk8FCv1D1FbcPSvLxVvz272kV/H55T2YuGjCuNrGVmdmpb2+A4ThwUNsl2LrS5w3Mcp31iUNBVFLngDs9xnNjwGp7jOCWBmbyG5zhOaWBQ0GVjueAOz3GcmPCcFkXNuwdFM1u+KXtOjXadJcCMo3tGrgmQWhx9NjgnIFVb29Ym5E4E09WCQYvo+vAklQNTgPlmdpykAcD9QE9gKnC6mWWMtlBc7tdxnHZFxCstzgdmpO3fCPzOzHYBlgNnZRNwh+c4Tiw0rrTIZcuGpL7Al4Hbw30BhwMPhkXuBrKuefImreM4sdGCJD41kqak7Y8JA4Y0chNwKdAYL6snsMLM6sP9eUCfbDdxh+c4TiyYwYaGnB3ekq0tLZN0HLDIzKZKGpmPTe7wHMeJhaBJG0mv2cHACZKOBbYBugK/B7pJqghreX2BrElAvA/PcZzYSIXrabNtmTCzy82sr5n1B04BnjOz04AJwFfDYmcAj2azp906vDiySkWd/SnObGiVVSl+d8+r/PGBV7j14Zc57QezI7EZkpUJLEm2JlE3E43TUqIYtNgKPwUukjSLoE8vY5QlKAKHJ6mfpAmSpkt6V9L5+WrGlVUq6uxPcWZD27C+jMu/ux/nnTyc804+kGEHL2XwF/NPNJOkTGBJsjWJutlR5GkazWyimR0Xvp9jZgeY2S5m9jUzyxonq80dHlAPXGxmQ4DhwLmShuQjGFdWqSizP8WdDQ3EurWBrRUVRnlFNHEPk5QJLEm2JlE3F4otp0WbOzwzW2Bm08L3KwkmFmYdXs5EIbJK5Uvc2dAg+GX/w99e4d4Jk3j9lR6893b+YciTlAksSbYmUTcbwShteU5boWhzh5eOpP7AvsDkZs4VPGtZXBQqG1pDg/jR14fzraMOYdCetey0y6pY7+c46UQ58TgqimZaiqTOwEPABWa2xaLDtshaFheFyIaWzuqVlbz1WneGHrSUj2d1zksrSZnAkmRrEnVzoZDN1VwoihqepEoCZ3ePmT2cr158WaWioRDZ0Lp2X0+nLkGzpapDin2HL2PeRx3ztj1JmcCSZGsSdbNRgFHaFtPmNbxwTdwdwAwz+20UmnFllYo7+1OU2dB61NRx8TXvUlYGKjNeeLYXr07K39YkZQJLkq1J1M3p3kUWHqoYspYdArwAvA00pve6wsz+ubVr4spapg4dItcE2OPfHh7KSRaTbTy1tiyvqlf33ba3w8d+NXtB4OGDby2ZrGUvQpE19B3HiYRiy0vb5g7PcZz2SdQBQKPAHZ7jOLHhDs9xnJKgcR5eMeEOz3Gc2Ci2eXju8NKwunhWcLwzNHrNk6ZPj14UeGRIdNNsnM2JaxZALNTl76jMoD73AKAFwR2e4zix4U1ax3FKAu/DcxynpDB3eI7jlAo+aOE4Tklg5n14juOUDCJVZKO0xWVNhCQpGUrUmpaC5/6rG//+QVcApl3ZmfEndWf8id2ZfEFX6lcXl71x6ibJ1qiTRMWtmwtmymkrFG3u8CRtI+lVSW+GSXyuzlczSclQ4tCc9Zdquuyc2rj/xctWM+qR5Yz6x3Kqe6eYfW91Udkbl26SbIXok0TFrZuNYoyH1+YOD6gDDjezvYF9gKMlDc9HMEnJUKLWXLuwjM+er6L/Vzb9AVZ2DkKAmUHDOqE8vl+l/Gzj1o0ySVQhdLNiwXcul61QtLnDs4DGZAuV4ZbXI0hSMpSoNd+6oTN7XLJ6i//ZqVd04alDe7Lyw3IGnra21fql/Gzj1m2PeNayZpBULukNYBEwzszadRKfuFgwsYoOPRrovkf9FueGXreSYyYupcvAFPOfStASJyexWDhokctWKIrC4ZlZysz2AfoCB0jas5kyY8xsmJkNqyTzH2ySkqFEqblsWiULJlTxzBE9eO3iriyZXMWUS7tsPK9y6HtsHfPHtd7hleqzLYRue8SbtBkwsxXABODofHSSlAwlSs09LlrNMROW8aV/LWP/39RSc+B6ht64klUfB//NZrDguSq6DEhlUSqMvXHrJsnW9kqxjdK2+Tw8SdsBG8xshaRq4Ejgxnw0k5QMJfYEKwZTr+hK/SphBtsOrmefq1qfn9afbfKSRMWdfGprBLW34pp4XAxJfPYC7gbKCWqcD5jZLzJdE1cSnyRx0vR4ku14eKj4SFJ4qFfqnqK2YWle3qp6ly/YwN+cnVPZ6SdenYwkPpJ6ZDpvZsuynH8L2DdfOxzHKT7auD61BVE0aacSTCNp7tfAgIER3MNxnIRhiIYiW1qWt8MzswFRGOI4TvujyCp40Y3SKuCbkv473N9R0gFR6TuOkzCs+EZpo6xv3gKMAL4R7q8E/hShvuM4ScNy3ApElNNSDjSz/SS9DmBmyyVVZbvIcZz2S7FNS4nS4W2QVE7or8P5dQ0R6jtpxDV9pNOkeHRXHxrPNJq4iGMKSVxZ8WIhguFVAxoa8nd4krYBJgEdCHzWg2Z2laQBwP1AT4LB09PNbP3WlaJt0t4MPAL0knQt8CJwXYT6juMkCQNMuW2Z2VpEpRuB35nZLsBy4KxsQpHV8MzsHklTgcYZwSea2Yyo9B3HSR5RzMOzYHVEcxGVDmfTmMHdwM+BWzNpRT1JpiObVky0Psqk4zjtg9wHLWoaoyGF22ZLNJpGVAJmAyvMrDE00DygTzZzIqvhSfof4GvAQwSTkO+U9HczuyaqeziOkyRaNOVkSaalZWaWAvaR1I2g62y31lgU5aDFacDeZrYOQNINwBuAOzzHKVUinnISBhmZQDAFrpukirCW1xeYn+36KJu0nwLpISM65GKA4zjtFANrUE5bJiRtF9bsSIuoNIMglNxXw2JnAI9mMymK4AF/IPDjnwPvShoX7h8JvJqvfmsZNrKWc375KeVlxlP39eCBP/YqWt1it9XqjHU/WgEbDEtBxcgOVH2nE2vPWw5rwnwZy42y3SvY5rrWx4VL0rO98MY5HHj4ClYsreSco78YiSYU/3eh5UQyD683cHc47a0xotITkqYD90u6BngduCObUBRN2inh61SCtnUjE1siEn6YKcB8MzsuH4Mas0pdfspAliyo5A///IBXntmWuR/kF7MsDt1E2FoF29zUDXUUVm+sO3cFqQOrqP5j941F1l35OeWHtH7uWpKeLQSZwB7/cy8u+c2cvLUaScR3oaVEM0rbbEQlM5sDtGj5ahTBA+7OVyPkfIJqatd8hdKzSgEbs0rl+x8ch24SbJUUjL8D1Idb2g+3rW4gNW0DHS7v0szVhbc3Ts1G3nm1K736RDuROAnfhRZTZNEDogwesKukByVNlzSnccvx2r7Al4Hbo7AlSdmqkmKrpYy131nGmtFLKB9WSfmQTTkc6l9YT/nQStSp9V+nJD3buEjKdyFnopt4HBlRDlrcSTDprx44DPgz8Nccr70JuJQMS9E8a1nbonJRPbYHHR/sSWpmPQ1zNmVGS41fR8WoAtQWnMTRnpP4VJvZeIKw8R+b2c8Jam0ZkXQcsMjMpmYq51nLikNXXcoo37eS1ORA21Y0kJpRT/mI/OJEJOnZxkXSvgs50aDctgIRpcOrk1QGfCDpPEknAZ1zuO5g4ARJHxEsBD5cUq41w2ZJUraqJNhqKxqwlUHl2+qM1JT1aKdyAOqfr6NiRBXqkN+XNknPNi6S8F1oKbLctkIR5cTj8wm6tn8M/JJgndsZ2S4ys8uBywEkjQQuMbNv5mNIkrJVJcFWW9pA3XUrsZSBQcVhHag4KKhl14+vo/K0jlkUCmtvnJqNxJEJLAnfhRZR4Fh3udDmWcvSSXN4GaeleNay+PDwUAGlHh5qso2n1pblVW3vsFM/633F+TmV/ficnyQma9njZPDjZnZCrlpmNpEWzt9zHKeIKZ76FBBNk/bXEWg4jtMeKbIQwFFMPH4+CkMcx2lnNM7DKyKiHLRwHMfZjEKOwOaCOzzHceKjyBxecaUFdxzHiZGiGqV12p64po9cPvutWHSv33mvWHSTNIWkvGve8Ta2QKuiqQu1xyatj9I6jrMlRkGXjeWCj9I6jhMf7bCGBwThoYDrgSGkhXo3s4FR3cNxnGRRbE3aYgkP5ThOeyT3NI0Foc3DQzmO044pMocX5Ty8zcJDEWQsyyU8lOM47ZBCh37KhShreOnhoYYCp5NDeKi4GDaylttfmMmdL83g5PM+K2rdJNkatW5DCsYevysPfLc/EES/ff7Xvbht1GDGHDWI1+7qWTS2JlW3Zoc6rr/7LW57Ygq3Pj6V0acXMHtqkQUAjayGZ2avhW9XAd9uybVh8M+VQAqozzdMTJKyPyXJ1jh0p9xVQ8+d11G3Kggo+vZD3aldUMX3x72HymD1kvKisTWpuqmUuP3Ggcye3pnqTvXc/NAbTPt3Nz6Z3Skv3VxotzU8SRMkPdd0a4HEYWa2TxQxsdKzNNVvKNuYpakYdZNka9S6tQsqmTWhC3ufvGzjsWn39OTgH32Gwm9mp5pUUdiaZN3li6uYPT3oXVq7uoK5s6up6bU+y1UR0Y778C5Je78N8BWCEduC01yWpt32W1OUukmyNWrdf13Tm8N+upD1qzf97i6fW8WMJ7vx/rNd6dijniP/51N6DGjdH2cSnkEhdNPZvs86dt59NTPfbH1KzZxpz314ZjY1bXvJzC4CRuZ6OfCspKmSzm6ugGcta1988FwXOvasp/cX1252PLVeVHRo4NuPzmKfU5bx5GX92sjC9sc2HVP87OYZjLl+IGtXFyhuSHut4UnqkbZbRjBwkWumkEPMbL6k7YFxkmaa2aT0AmY2BhgDQYj3TGJJyv6UJFuj1J0/tROzxnflloldqa8TdavKeeyifnTZYQODw2bcoKNqefLS1ju8Yn8GhdIFKK9o4Gc3T2fi49vx73E1kWjmgoosAGiUo7RTgSnh68vAxcBZuVxoZvPD10XAI8AB+RiSpOxPSbI1St2RP1nIeS/N5IeTZjL693PZacQqTvjtJww6spaPXwn6m+ZO7kT3Aa2vzRf7MyiULhgXXPMBn8zuyCN39Y1AL7lEWa/d3czWpR+QlDUTiqROQJmZrQzfHwX8Ih9DkpT9KUm2xqnbyIhzFvHYhTvy2tgaKjs1cOz184rO1qTpDtmvllEnLuLD9zryh0emAXD37/ozZVKPLFdGQJH14UWWtUzSNDPbL9uxZq4bSFCrg8AB32tm12a6xrOWJY+khYdKEnGEh3p51aN8Xr8krwly23yhn/X//kU5lX3v5xclJmvZDkAfoFrSvkDjQ+pKMBE5I65i6NAAABZOSURBVGY2B9g7XzscxylCiqyGF0WT9kvAmUBf4Ddscni1wBUR6DuOk1Tam8Mzs7uBuyV9xcweisAmx3HaAaJ9j9IOldStcUdSd0nXRKjvOE6SsE0BBLJthSJKh3eMma1o3DGz5cCxEeo7jpM0Iph4LKlfuHR1uqR3JZ0fHu8haZykD8LX7tnMidLhladPQ5FUDWSdluI4TjsmmpUW9cDFZjYEGA6cK2kIcBkw3sx2BcaH+xmJch7ePcB4SXeG+98miHqcGNQhHv+cpAxYcRHX9JFnPn0jFt0vfWGfWHTjIFVbG7mmWTSdb1E0V81sAbAgfL9S0gyCmSGj2bR89W5gIvDTTFpRhoe6UdKbwBHhoV+a2TNR6TuOk0Ai7p+T1B/YF5gM9AqdIcBCoFe26yNdQWxmTwNPh4YdIulPZnZulPdwHCchWItGaWskTUnbHxOun9+IpM7AQ8AFZlYrbZoXbWYmZa9PRurwwonHpwInAx8CD0ep7zhOwsi9hrck00oLSZUEzu4eM2v0K59J6m1mCyT1BhZlu0kUKy0GETi5U4ElwN8Ilqwdlq+24zjJJoo+PAVVuTuAGWb227RTjxGkkbghfH00m1YUNbyZwAvAcWY2KzTwwgh0HcdJOtH04R1MkCPnbUmNo1RXEDi6BySdBXxM0LLMSBQO77+AU4AJkp4G7mfT8jLHcUqViIJ7mtmLbN2ntCiKSN7z8MzsH2Z2CrAbMAG4ANhe0q2SjspXv7XEkf3pwhvncP9r07jt6bcj0WskSRmwkqD7rQOG8P3DB/ODIwZz3tGDAJj0+LZ8b+Rgju6zN++/WV00tiZdNxOiHa+0MLPVZnavmR1PEEjgdbLMiWlEUjdJD0qaKWmGpBH52NKY/enK0wbwvZGDOWz0CnbcdV32C7Mw7qEarjxzcN466cRla6nr/urvs7j1X+/xx6ffB6D/buv4n9s/4ovDVxedrUnVzYV26/DSMbPlZjbGzHKtbv4eeNrMdiMIFTUjn/vHlf3pnVe7snJFtLkAkpYBK2m6jey4ax39dolmAnjSnkHczzYjRZbTIhaH1xIkbQscSjAKg5mtT1+T2xqay/5U03tDXnbGRVy2lrSujCtO3ZlzvzSIf/41v0TezZGIZ1AA3ZwoModXoNRFGRkALAbulLQ3QU6M881ss7ZHmM3sbIBtsscVdUqY3/5jFjW9N7BiSQWXnbIz/XZZF0lT1mkh7TlNYx5UAPsBt5rZvsBqmlkEHDaRh5nZsMosMQnizP4UNUnLgJUE3cbaS7eaeg4++nNmvh7tD2QSnkEhdHOiyGp4xeDw5gHzzGxyuP8ggQNsNfFlf4qepGXAKnbddWvKWLOqbOP7qc93of9u0XbQF/szKJRuLqght61QtHmT1swWSvpE0mAze49gXs30fDTjyv502e9nsdfwlXTtXs9f/v06f72pL888sF1emknLgFXsussXV3D1WQMASNXDYSetYP/DVvLSU9tyy5V9+HxpBf99+kB23mMt1903p01tTbpuLhRbkzayrGV5GSHtA9wOVAFzgG+HAUSbJa6sZR4eKnl4eKh4mGzjqbVleS0g6LhdP9vtK7llLXv9/xKStSwKzOwNIPYP6zhOgWn7+tRmFIXDcxyn/dG40qKYcIfnOE5sqKG4PJ47PMdx4qHAU05ywR2e4zix4U1ax3FKB3d4xUuSpo/ENYUmLuJ6tnFNH7l89luRa8aVua2Y8Rqe4zilgzs8x3FKgpZlLSsI7vAcx4kFn4fnOE5pUQRLV9Nxh+c4TmwUWw2vGMJDxUKSkqHEZWscSYfiSmQEyXi2DSkYe/yuPPDd/kBQgXn+1724bdRgxhw1iNfuyi/CcpK+t1nJNRZeKcXDkzRY0htpW62kC/LRTFIylDgTrMSRdCgOTUjOs51yVw09d96k8fZD3aldUMX3x73H2c++z5DjWp+dIEnf21wptnh4be7wzOw9M9vHzPYBhgJrgEfy0UxSMpQ4E6zEkXQoDk1IxrOtXVDJrAld2PvkZRuPTbunJwf/6DMU/iV1qkkVjb1x6+aCO7zMjAJmm9nH+YgkKRlKkhIOxUkSnu2/runNYT9duNG5ASyfW8WMJ7tx5+hd+Nu3+7Psw6qtXl9oe+PWzYoRtPlz2QpEsTm8U4D7mjsh6WxJUyRN2UByVkQ47YMPnutCx5719P7i2s2Op9aLig4NfPvRWexzyjKevKxfG1lYnBRbXtqiGaWVVAWcAFze3HkzGwOMgSDicSatJCVDSVLCoTgp9mc7f2onZo3vyi0Tu1JfJ+pWlfPYRf3ossMGBofNw0FH1fLkpa13eEn63uaMj9JulWOAaWaW9xBSkpKhJCnhUJwU+7Md+ZOFnPfSTH44aSajfz+XnUas4oTffsKgI2v5+JXOAMyd3InuA1rf+kjS9zYXGiceew2veU5lK83ZlpKkZChxJliJI+lQHJqQvGfbyIhzFvHYhTvy2tgaKjs1cOz181qtlaTvbU6YFV0A0GJJ4tMJmAsMNLOsw0dxJfFJEh4tJV5KPVpKFEl8unTra/seen5OZV94/NKSSuKzGshvxqbjOEVHsa20KAqH5zhOO8SAImvSusNzHCc+isvfucNzHCc+iq1JW0zTUhzHaWeowXLasupIYyUtkvRO2rEeksZJ+iB87Z5Nxx2e4zjxEG20lLuAo5scuwwYb2a7AuPD/Yx4kzaN8u3yn0/WHA21tZFrJm2aR9KIYwrJSdMXR64J8I99+0YvWpfXjBSgceJxNG1aM5skqX+Tw6OBkeH7u4GJwE8z6bjDcxwnPnKPhFIjaUra/phwOWkmepnZgvD9QqBXtpu4w3McJzZaUMNbks/EYzMzKfsQiffhOY4TD/FHPP5MUm+A8HVRtgvc4TmOExO5jdDmsd72MeCM8P0ZwKPZLnCH5zhOfEQUAFTSfcDLwGBJ8ySdBdwAHCnpA+CIcD8j3ofnOE48RJiI28xO3cqpFkURabcOb9jIWs755aeUlxlP3deDB/6YdQAnK5VVKX5151QqKxsorzBeHLc999y6c966F944hwMPX8GKpZWcc/QX89ZrJI5nkDTdpNhqKZjwtW5s06uBg26tZdqVnVn+biUYdO6fYui1tVR0ap12XN+vnCiCaEzpFEWTVtKFkt6V9I6k+yTlFawrrixNG9aXcfl39+O8k4dz3skHMuzgpQz+Yv7JUOLIBJa0DFhJyVoWl+6sv1TTZedNCYC+eNlqRj2ynFH/WE517xSz761utXZcmeZywtM0bo6kPsCPgWFmtidQTpDbotXEl6VJrFsbVIorKozyimj+p+LIBJa0DFhJyFoWl+7ahWV89nwV/b+yyWlWdg6+W2bQsE4oj3nAcWWaywU1NOS0FYo2d3ghFUC1pAqgI/BpPmJxZmkqKzP+8LdXuHfCJF5/pQfvvV2c4diTlgErCVnL4tJ964bO7HHJ6i3+Gqde0YWnDu3Jyg/LGXja2uYvLmaMYOJxLluBaHOHZ2bzgV8TRDxeAHxuZs82LVcsWcsaGsSPvj6cbx11CIP2rGWnXVa1mS1O8lkwsYoOPRrovkf9FueGXreSYyYupcvAFPOfSlaEawBhyHLbCkWbO7wwwsFoYADwBaCTpG82LWdmY8xsmJkNqyTzf34hsjStXlnJW691Z+hBSyPVjYqkZcAq9qxlcekum1bJgglVPHNED167uCtLJlcx5dIuG8+rHPoeW8f8cclzeIDnpW2GI4APzWyxmW0AHgYOykcwrixNXbuvp1OXoOlS1SHFvsOXMe+jjnnrxkHSMmAVe9ayuHT3uGg1x0xYxpf+tYz9f1NLzYHrGXrjSlZ9HPxpmsGC56roMiCVRalIKTKHVwzTUuYCwyV1BNYSzKuZkvmSzMSVpalHTR0XX/MuZWWgMuOFZ3vx6qT8I6zEkQksaRmwkpS1LPYsYAZTr+hK/SphBtsOrmefq1rfdRJXprmsNPbhFRHFkrXsauDrQD3wOvBdM9tqR11cWcs8PJQTJ0kKD/VK3VPUNizNK0bUth2/YCN2PSunss+8dU1JZS27Criqre1wHCdKCttczYWicHiO47RDDHd4juOUEEXWh+cOz3Gc2CjkHLtccIfnOE58uMNzHKckMINUcbVp3eGlkVocz7QBB9QhnpUCSZqeE0t2MeCH77wdueacEyNau+s1PMdxSgZ3eI7jlAQGtD5fRSy4w3McJyYMzPvwHMcpBQwftHAcp4TwPjzHcUqGInN4xRAPLxaGjazl9hdmcudLMzj5vM+KWjdJtsale+GNc7j/tWnc9nS0UyxK+Rk0pOBvJ+zIE9/7AgDjL+3Fnw8bwP3H78j9x+/I4ulxBxXNMRZeiQUARdL5YcaydyVdkK9ekrJVJcnWOHU9c1v0z+Ctu7vRfef1mx076NLFnPL4XE55fC7bDYl5DqMBDQ25bQWizR2epD2B7wEHAHsDx0naJR/NpGSrSpqtcep65rZon8GqBRV8NLEzQ06OIltfHngNbwt2Byab2RozqweeB/4rH8GkZKuKSzOJunFQys/gxWu346BLF6Mmf+GTf1fD/cftxIvXbkeqLq/4njkQLi3LZSsQxeDw3gH+Q1LPMMz7sUC/poWKJWuZ4xQ7Hz3XieqeKbbfc/O/k+GXLOEbz3zE1x6ay7rPy5g2pnu8hhiYNeS0FYo2H6U1sxmSbgSeBVYDbwBbZCwxszHAGAhCvGfSTEK2qjg1k6gbB6X6DBZMq+bD8Z34+PkB1NeJDavKGHfxDhz5m4UAlHcwdv9KLa/fHrPDg6JbaVEMNTzM7A4zG2pmhwLLgffz0UtCtqok2hqnbhyU6jMYcckSznzxQ7418UO+dNMC+gxfw5G/WcjqReVA0GU2Z1xneg5an0UpAoqsD6/Na3gAkrY3s0WSdiTovxuej16SslUlydY4dT1zW/zZxcZd3Ju1y8rBoGb3Ov7zF9FN02kWs4KOwOZCsWQtewHoCWwALjKz8ZnKx5W1zIkPDw8V3zOIIzzUJSd+wKy31+SXtay8xkZ0Oj6nss+svKukspb9R1vb4DhO1BiWKq4E4kXh8BzHaYd4eCjHcUqKIgsPVRSjtI7jtD8MsAbLacuGpKMlvSdplqTLWmuTOzzHceLBwgCguWwZkFQO/Ak4BhgCnCppSGtM8iat4zixEdGgxQHALDObAyDpfmA0ML2lQkUxLaWlSFoMfJxD0RpgSQwmuG6ybE2abjHYupOZ5TUJUNLT4T1zYRsgPeTMmHB1FZK+ChxtZt8N908HDjSz81pqUyJreLn+R0iaEsfcHtdNlq1J002SrZkws6MLda9c8T48x3GKnflsHlCkb3isxbjDcxyn2HkN2FXSAElVwCnAY60RSmSTtgWMcd3YdJNka9J0k2Rr7JhZvaTzgGeAcmCsmb3bGq1EDlo4juO0Bm/SOo5TMrjDcxynZGi3Di+qpShNNMdKWiTpnSj0Qs1+kiZImh5mbTs/It1tJL0q6c1Q9+oodNP0yyW9LumJCDU/kvS2pDckTYlIs5ukByXNlDRD0ogINAeHNjZutVFk2wu1Lwz/v96RdJ+k/APtEX1mwMRiZu1uI+jYnA0MBKqAN4EhEegeCuwHvBOhrb2B/cL3XQiiPUdhq4DO4ftKYDIwPEK7LwLuBZ6IUPMjoCbi78LdwHfD91VAtxi+awsJJurmq9UH+BCoDvcfAM6MQHdPgtwxHQkGKv8F7BLlc0jK1l5reBuXopjZeqBxKUpemNkkYFm+Ok00F5jZtPD9SmAGwRc/X10zs1XhbmW4RTJCJakv8GXg9ij04kLStgQ/UncAmNl6M1sR8W1GAbPNLJeVP7lQAVRLqiBwUJ9GoBl5ZsCk0l4dXh/gk7T9eUTgROJGUn9gX4LaWBR65ZLeABYB48wsEl3gJuBSIOrYPwY8K2mqpLMj0BsALAbuDJvft0vqFIFuOqcA90UhZGbzgV8Dc4EFwOdm9mwE0jllBiwF2qvDSxySOgMPAReYWW0UmmaWMrN9CGamHxAmPc8LSccBi8xsat4GbskhZrYfQVSMcyUdmqdeBUEXxK1mti9BVrxI+nMBwkmwJwB/j0ivO0FLZADwBaCTpG/mq2tmM4DGzIBPs5XMgKVAe3V4kS1FKQSSKgmc3T1m9nDU+mEzbgIQxdrGg4ETJH1E0FVwuKS/RqDbWMPBzBYBjxB0TeTDPGBeWs32QQIHGBXHANPMLKpsOEcAH5rZYjPbADwMHBSFsEWcGTCptFeHF9lSlLiRJII+phlm9tsIdbeT1C18Xw0cCczMV9fMLjezvmbWn+C5PmdmeddCJHWS1KXxPXAUQVMsH1sXAp9IGhweGkUrQgpl4FQias6GzAWGS+oYfi9GEfTp5o2k7cPXxsyA90ahmzTa5dIyi3ApSjqS7gNGAjWS5gFXmdkdecoeDJwOvB32twFcYWb/zFO3N3B3GDyxDHjAzCKbQhIDvYBHgr9zKoB7zezpCHR/BNwT/vDNAb4dgWajUz4S+H4UegBmNlnSg8A0oB54neiWgz0kqTEz4LkxDN4kAl9a5jhOydBem7SO4zhb4A7PcZySwR2e4zglgzs8x3FKBnd4juOUDO7w2iGSUmEUj3ck/T1cTtRarZGNEVEknZAp8kwYmeSHrbjHzyVdkuvxJmXuCrNa5Xqv/lFGu3GShTu89slaM9vHzPYE1gPnpJ9UQIv/783sMTO7IUORbkCLHZ7jFAp3eO2fF4BdwprNe5L+TLCCoZ+koyS9LGlaWBPsDBtjCc6UNI20qBqSzpT0x/B9L0mPhPH23pR0EHADsHNYu/zfsNxPJL0m6a30mHySfibpfUkvAoPJgqTvhTpvSnqoSa31CElTQr3jwvLlkv437d6RTRB2kos7vHZMGGLoGODt8NCuwC1mtgfBQvorgSPCBftTgIvCgJP/DzgeGArssBX5m4HnzWxvgvWp7xIszJ8d1i5/Iumo8J4HAPsAQyUdKmkowbK0fQgid+yfw8d52Mz2D+83Azgr7Vz/8B5fBm4LP8NZBNFG9g/1vydpQA73cdox7XJpmUN12jK1FwjW6n4B+NjMXgmPDweGAC+Fy7mqgJeB3QgWsH8AEAYGaC5U0+HAtyCIygJ8Hkb7SOeocHs93O9M4AC7AI+Y2ZrwHrmsc95T0jUEzebOBMsGG3nAzBqADyTNCT/DUcBeaf1724b3LslF806AO7z2ydowLNRGQqe2Ov0QQYy8U5uU2+y6PBFwvZn9X5N7tCbE+F3AiWb2pqQzCdY0N9J0faSF9/6RmaU7xsaYg06J4k3a0uUV4GBJu8DGaCWDCCKq9Je0c1ju1K1cPx74QXhtuYLowisJam+NPAN8J61vsE8YtWMScKKk6jBCyvE52NsFWBCG0jqtybmvSSoLbR4IvBfe+wdheSQNUvTBP52E4TW8EsXMFoc1pfskdQgPX2lm7yuINvykpDUETeIuzUicD4yRdBZBMMkfmNnLkl4Kp308Ffbj7Q68HNYwVwHfNLNpkv5GkGtkEUE4r2z8N0Ek6MXha7pNc4FXga7AOWa2TtLtBH1708JQS4uBE3N7Ok57xaOlOI5TMniT1nGcksEdnuM4JYM7PMdxSgZ3eI7jlAzu8BzHKRnc4TmOUzK4w3Mcp2T4/+FsAA2aG9hKAAAAAElFTkSuQmCC\n",
      "text/plain": [
       "<Figure size 432x288 with 2 Axes>"
      ]
     },
     "metadata": {
      "needs_background": "light"
     },
     "output_type": "display_data"
    }
   ],
   "source": [
    "score = logisticRegr.score(x_test, y_test)\n",
    "print(score)\n",
    "cm = metrics.confusion_matrix(y_test, predictions)\n",
    "plt.figure(figsize=(9,9))\n",
    "from sklearn.metrics import plot_confusion_matrix\n",
    "plot_confusion_matrix(logisticRegr, x_test, y_test)\n",
    "plt.ylabel('Actual label');\n",
    "plt.xlabel('Predicted label');\n",
    "all_sample_title = 'Accuracy Score: {0}'.format(score)\n",
    "plt.title(all_sample_title, size = 15)\n",
    "plt.show()\n",
    "\n"
   ]
  },
  {
   "cell_type": "code",
   "execution_count": 28,
   "metadata": {},
   "outputs": [],
   "source": [
    "from sklearn.datasets import load_iris\n"
   ]
  },
  {
   "cell_type": "code",
   "execution_count": 29,
   "metadata": {},
   "outputs": [],
   "source": [
    "data = load_iris()"
   ]
  },
  {
   "cell_type": "code",
   "execution_count": 30,
   "metadata": {},
   "outputs": [
    {
     "data": {
      "text/plain": [
       "array(['setosa', 'versicolor', 'virginica'], dtype='<U10')"
      ]
     },
     "execution_count": 30,
     "metadata": {},
     "output_type": "execute_result"
    }
   ],
   "source": [
    "data.target_names"
   ]
  },
  {
   "cell_type": "code",
   "execution_count": 31,
   "metadata": {},
   "outputs": [
    {
     "data": {
      "text/plain": [
       "['DESCR',\n",
       " 'data',\n",
       " 'data_module',\n",
       " 'feature_names',\n",
       " 'filename',\n",
       " 'frame',\n",
       " 'target',\n",
       " 'target_names']"
      ]
     },
     "execution_count": 31,
     "metadata": {},
     "output_type": "execute_result"
    }
   ],
   "source": [
    "dir(data)"
   ]
  },
  {
   "cell_type": "code",
   "execution_count": 32,
   "metadata": {},
   "outputs": [
    {
     "data": {
      "text/plain": [
       "['sepal length (cm)',\n",
       " 'sepal width (cm)',\n",
       " 'petal length (cm)',\n",
       " 'petal width (cm)']"
      ]
     },
     "execution_count": 32,
     "metadata": {},
     "output_type": "execute_result"
    }
   ],
   "source": [
    "data.feature_names"
   ]
  },
  {
   "cell_type": "code",
   "execution_count": 33,
   "metadata": {},
   "outputs": [
    {
     "data": {
      "text/plain": [
       "(150, 4)"
      ]
     },
     "execution_count": 33,
     "metadata": {},
     "output_type": "execute_result"
    }
   ],
   "source": [
    "data.data.shape\n"
   ]
  },
  {
   "cell_type": "code",
   "execution_count": 34,
   "metadata": {},
   "outputs": [],
   "source": [
    "x_train, x_test, y_train, y_test = train_test_split(data.data, data.target, test_size=0.25, random_state=0)"
   ]
  },
  {
   "cell_type": "code",
   "execution_count": 35,
   "metadata": {},
   "outputs": [
    {
     "name": "stderr",
     "output_type": "stream",
     "text": [
      "/usr/local/lib/python3.7/site-packages/sklearn/linear_model/_logistic.py:818: ConvergenceWarning: lbfgs failed to converge (status=1):\n",
      "STOP: TOTAL NO. of ITERATIONS REACHED LIMIT.\n",
      "\n",
      "Increase the number of iterations (max_iter) or scale the data as shown in:\n",
      "    https://scikit-learn.org/stable/modules/preprocessing.html\n",
      "Please also refer to the documentation for alternative solver options:\n",
      "    https://scikit-learn.org/stable/modules/linear_model.html#logistic-regression\n",
      "  extra_warning_msg=_LOGISTIC_SOLVER_CONVERGENCE_MSG,\n"
     ]
    }
   ],
   "source": [
    "logisticRegr = LogisticRegression()\n",
    "logisticRegr.fit(x_train, y_train)\n",
    "predictions = logisticRegr.predict(x_test)"
   ]
  },
  {
   "cell_type": "code",
   "execution_count": 36,
   "metadata": {},
   "outputs": [
    {
     "name": "stdout",
     "output_type": "stream",
     "text": [
      "0.9736842105263158\n"
     ]
    },
    {
     "name": "stderr",
     "output_type": "stream",
     "text": [
      "/usr/local/lib/python3.7/site-packages/sklearn/utils/deprecation.py:87: FutureWarning: Function plot_confusion_matrix is deprecated; Function `plot_confusion_matrix` is deprecated in 1.0 and will be removed in 1.2. Use one of the class methods: ConfusionMatrixDisplay.from_predictions or ConfusionMatrixDisplay.from_estimator.\n",
      "  warnings.warn(msg, category=FutureWarning)\n"
     ]
    },
    {
     "data": {
      "text/plain": [
       "<Figure size 648x648 with 0 Axes>"
      ]
     },
     "metadata": {},
     "output_type": "display_data"
    },
    {
     "data": {
      "image/png": "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\n",
      "text/plain": [
       "<Figure size 432x288 with 2 Axes>"
      ]
     },
     "metadata": {
      "needs_background": "light"
     },
     "output_type": "display_data"
    }
   ],
   "source": [
    "score = logisticRegr.score(x_test, y_test)\n",
    "print(score)\n",
    "cm = metrics.confusion_matrix(y_test, predictions)\n",
    "plt.figure(figsize=(9,9))\n",
    "plot_confusion_matrix(logisticRegr, x_test, y_test)\n",
    "plt.ylabel('Actual label');\n",
    "plt.xlabel('Predicted label');\n",
    "all_sample_title = 'Accuracy Score: {0}'.format(score)\n",
    "plt.title(all_sample_title, size = 15)\n",
    "plt.show()\n"
   ]
  },
  {
   "cell_type": "code",
   "execution_count": null,
   "metadata": {},
   "outputs": [],
   "source": []
  }
 ],
 "metadata": {
  "kernelspec": {
   "display_name": "Python 3",
   "language": "python",
   "name": "python3"
  },
  "language_info": {
   "codemirror_mode": {
    "name": "ipython",
    "version": 3
   },
   "file_extension": ".py",
   "mimetype": "text/x-python",
   "name": "python",
   "nbconvert_exporter": "python",
   "pygments_lexer": "ipython3",
   "version": "3.7.3"
  }
 },
 "nbformat": 4,
 "nbformat_minor": 2
}
